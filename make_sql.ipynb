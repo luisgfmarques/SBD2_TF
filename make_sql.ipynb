{
 "cells": [
  {
   "cell_type": "code",
   "execution_count": 50,
   "metadata": {},
   "outputs": [],
   "source": [
    "import csv\n",
    "file = open('reduzido.csv', 'r')\n",
    "\n",
    "# user_name|User_location|User_description|User_created|User_followers|User_friends|User_favourites|User_verified|Date|Text|Hashtags|Source|is_retweet\n",
    "\n",
    "def sql_for_insert_user(array_input):\n",
    "    return f'INSERT INTO USUARIO (user_verified, user_created, user_friends, user_favorites, user_followers,user_name) VALUES ({array_input[7]}, \"{array_input[3]}\", \"{array_input[5]}\", \"{array_input[6]}\", \"{array_input[4]}\",\"{array_input[0]}\");'\n",
    "\n",
    "def sql_for_insert_body(array_input):\n",
    "    text = array_input[9].replace('\"',\"\")\n",
    "    text = text.replace(\"'\",\"\")\n",
    "    return f'INSERT INTO BODY (texto,user_location,submit_date) VALUES (\"{text}\", \"{array_input[1]}\", \"{array_input[8]}\");'\n",
    "\n",
    "def sql_for_insert_tweet(array_input):\n",
    "    text = array_input[9].replace('\"',\"\")\n",
    "    text = text.replace(\"'\",\"\")\n",
    "    return f'INSERT INTO TWEET (user_name, id_body,id_user) VALUES (\"{array_input[0]}\", (SELECT id_body FROM BODY WHERE texto = \"{text}\" AND submit_date=\"{array_input[8]}\" and user_location = \"{array_input[1]}\"), (SELECT id_user FROM USUARIO WHERE user_name = \"{array_input[0]}\"));'\n",
    "\n",
    "def sql_for_insert_hashtag(array_input,previes_hashtag):\n",
    "    returns = []\n",
    "    array = eval(array_input[10]) if len(array_input[10]) > 0 else []\n",
    "    for hashtag in array:\n",
    "        if hashtag not in previes_hashtag:\n",
    "            print(f'INSERT INTO HASHTAG (nome) VALUES (\"{hashtag}\");')\n",
    "            previes_hashtag.append(hashtag)\n",
    "    return "
   ]
  },
  {
   "cell_type": "code",
   "execution_count": 52,
   "metadata": {},
   "outputs": [
    {
     "ename": "IndexError",
     "evalue": "list index out of range",
     "output_type": "error",
     "traceback": [
      "\u001b[0;31m---------------------------------------------------------------------------\u001b[0m",
      "\u001b[0;31mIndexError\u001b[0m                                Traceback (most recent call last)",
      "Cell \u001b[0;32mIn[52], line 4\u001b[0m\n\u001b[1;32m      2\u001b[0m i \u001b[39m=\u001b[39m\u001b[39m0\u001b[39m\n\u001b[1;32m      3\u001b[0m \u001b[39mfor\u001b[39;00m row \u001b[39min\u001b[39;00m csv\u001b[39m.\u001b[39mreader(file):\n\u001b[0;32m----> 4\u001b[0m     \u001b[39mprint\u001b[39m(sql_for_insert_user(row))\n\u001b[1;32m      5\u001b[0m     \u001b[39mprint\u001b[39m(sql_for_insert_body(row))\n\u001b[1;32m      6\u001b[0m     \u001b[39mprint\u001b[39m(sql_for_insert_tweet(row))\n",
      "Cell \u001b[0;32mIn[50], line 7\u001b[0m, in \u001b[0;36msql_for_insert_user\u001b[0;34m(array_input)\u001b[0m\n\u001b[1;32m      6\u001b[0m \u001b[39mdef\u001b[39;00m \u001b[39msql_for_insert_user\u001b[39m(array_input):\n\u001b[0;32m----> 7\u001b[0m     \u001b[39mreturn\u001b[39;00m \u001b[39mf\u001b[39m\u001b[39m'\u001b[39m\u001b[39mINSERT INTO USUARIO (user_verified, user_created, user_friends, user_favorites, user_followers,user_name) VALUES (\u001b[39m\u001b[39m{\u001b[39;00marray_input[\u001b[39m7\u001b[39m]\u001b[39m}\u001b[39;00m\u001b[39m, \u001b[39m\u001b[39m\"\u001b[39m\u001b[39m{\u001b[39;00marray_input[\u001b[39m3\u001b[39m]\u001b[39m}\u001b[39;00m\u001b[39m\"\u001b[39m\u001b[39m, \u001b[39m\u001b[39m\"\u001b[39m\u001b[39m{\u001b[39;00marray_input[\u001b[39m5\u001b[39m]\u001b[39m}\u001b[39;00m\u001b[39m\"\u001b[39m\u001b[39m, \u001b[39m\u001b[39m\"\u001b[39m\u001b[39m{\u001b[39;00marray_input[\u001b[39m6\u001b[39m]\u001b[39m}\u001b[39;00m\u001b[39m\"\u001b[39m\u001b[39m, \u001b[39m\u001b[39m\"\u001b[39m\u001b[39m{\u001b[39;00marray_input[\u001b[39m4\u001b[39m]\u001b[39m}\u001b[39;00m\u001b[39m\"\u001b[39m\u001b[39m,\u001b[39m\u001b[39m\"\u001b[39m\u001b[39m{\u001b[39;00marray_input[\u001b[39m0\u001b[39m]\u001b[39m}\u001b[39;00m\u001b[39m\"\u001b[39m\u001b[39m);\u001b[39m\u001b[39m'\u001b[39m\n",
      "\u001b[0;31mIndexError\u001b[0m: list index out of range"
     ]
    }
   ],
   "source": [
    "next(file)\n",
    "i =0\n",
    "for row in csv.reader(file):\n",
    "    print(sql_for_insert_user(row))\n",
    "    print(sql_for_insert_body(row))\n",
    "    print(sql_for_insert_tweet(row))\n",
    "    preview = []\n",
    "    sql_for_insert_hashtag(row,preview)\n",
    "    if i == 50:\n",
    "        break\n",
    "    i = i+1"
   ]
  }
 ],
 "metadata": {
  "kernelspec": {
   "display_name": "Python 3",
   "language": "python",
   "name": "python3"
  },
  "language_info": {
   "codemirror_mode": {
    "name": "ipython",
    "version": 3
   },
   "file_extension": ".py",
   "mimetype": "text/x-python",
   "name": "python",
   "nbconvert_exporter": "python",
   "pygments_lexer": "ipython3",
   "version": "3.9.2"
  },
  "orig_nbformat": 4,
  "vscode": {
   "interpreter": {
    "hash": "916dbcbb3f70747c44a77c7bcd40155683ae19c65e1c03b4aa3499c5328201f1"
   }
  }
 },
 "nbformat": 4,
 "nbformat_minor": 2
}
